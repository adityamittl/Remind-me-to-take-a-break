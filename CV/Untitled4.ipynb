{
 "cells": [
  {
   "cell_type": "code",
   "execution_count": 2,
   "id": "9a2d1893",
   "metadata": {},
   "outputs": [],
   "source": [
    "import numpy as np\n",
    "import cv2\n",
    "import time"
   ]
  },
  {
   "cell_type": "code",
   "execution_count": 3,
   "id": "93c9d13d",
   "metadata": {},
   "outputs": [],
   "source": [
    "def monitor_human():\n",
    "    return_var = 0\n",
    "\n",
    "    face_cascade = cv2.CascadeClassifier('haarcascade_frontalface_default.xml')\n",
    "    eye_cascade = cv2.CascadeClassifier(cv2.data.haarcascades + 'haarcascade_eye_tree_eyeglasses.xml')\n",
    "\n",
    "    first_read = True\n",
    "\n",
    "    cap = cv2.VideoCapture(0)\n",
    "    ret,img = cap.read()\n",
    "\n",
    "    while(ret):\n",
    "        ret,img = cap.read()\n",
    "        gray = cv2.cvtColor(img, cv2.COLOR_BGR2GRAY)\n",
    "        gray = cv2.bilateralFilter(gray,5,1,1)\n",
    "        #this will help with coping with the input noise.\n",
    "\n",
    "        faces = face_cascade.detectMultiScale(gray, 1.3, 5,minSize=(200,200))\n",
    "        if(len(faces)>0):\n",
    "            for (x,y,w,h) in faces:\n",
    "                img = cv2.rectangle(img,(x,y),(x+w,y+h),(0,255,255),10)\n",
    "\n",
    "                roi_face = gray[y:y+h,x:x+w]\n",
    "                roi_face_clr = img[y:y+h,x:x+w]\n",
    "                eyes = eye_cascade.detectMultiScale(img,1.3,5,minSize=(50,50))\n",
    "                for (ex,ey,ew,eh) in eyes:\n",
    "                    img=cv2.rectangle(img,(ex,ey),(ex+ew,ey+eh),(0,0,255),2)\n",
    "\n",
    "                if(len(eyes)>=2):\n",
    "                    pass\n",
    "                else:\n",
    "                    return_var=1\n",
    "\n",
    "        else:\n",
    "            return_var=1\n",
    "        return(return_var)"
   ]
  },
  {
   "cell_type": "code",
   "execution_count": null,
   "id": "3f8be6c5",
   "metadata": {},
   "outputs": [],
   "source": []
  }
 ],
 "metadata": {
  "kernelspec": {
   "display_name": "Python 3",
   "language": "python",
   "name": "python3"
  },
  "language_info": {
   "codemirror_mode": {
    "name": "ipython",
    "version": 3
   },
   "file_extension": ".py",
   "mimetype": "text/x-python",
   "name": "python",
   "nbconvert_exporter": "python",
   "pygments_lexer": "ipython3",
   "version": "3.8.8"
  }
 },
 "nbformat": 4,
 "nbformat_minor": 5
}
